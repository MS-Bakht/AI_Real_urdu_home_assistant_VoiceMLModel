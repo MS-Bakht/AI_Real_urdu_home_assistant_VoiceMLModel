{
 "cells": [
  {
   "cell_type": "code",
   "execution_count": 1,
   "id": "17edd3ee",
   "metadata": {},
   "outputs": [],
   "source": [
    "import zipfile\n",
    "import os"
   ]
  },
  {
   "cell_type": "markdown",
   "id": "dd7eacdf",
   "metadata": {},
   "source": [
    "First unzipping the folder. and accessing the files\n"
   ]
  },
  {
   "cell_type": "code",
   "execution_count": 9,
   "id": "22eb9af4",
   "metadata": {},
   "outputs": [
    {
     "name": "stdout",
     "output_type": "stream",
     "text": [
      "E:\\University\\semester 3\\Prog. AI\\Proj-backup\n"
     ]
    }
   ],
   "source": [
    "cd E:\\University\\semester 3\\Prog. AI\\Proj-backup\n"
   ]
  },
  {
   "cell_type": "code",
   "execution_count": 10,
   "id": "8107996d",
   "metadata": {},
   "outputs": [
    {
     "data": {
      "text/plain": [
       "<bound method ZipFile.close of <zipfile.ZipFile filename='PAI_VolunteerTask.zip' mode='r'>>"
      ]
     },
     "execution_count": 10,
     "metadata": {},
     "output_type": "execute_result"
    }
   ],
   "source": [
    "target = \"PAI_VolunteerTask.zip\"\n",
    "\n",
    "zp = zipfile.ZipFile(target) \n",
    "zp.extractall()\n",
    "zp.close"
   ]
  },
  {
   "cell_type": "code",
   "execution_count": 11,
   "id": "ebf1f84b",
   "metadata": {},
   "outputs": [
    {
     "name": "stdout",
     "output_type": "stream",
     "text": [
      "['A.C', 'Bulb', 'Gaana', 'T.V']\n"
     ]
    }
   ],
   "source": [
    "workspace = 'PAI_VolunteerTask'\n",
    "\n",
    "files = os.listdir(workspace)\n",
    "print(files)        "
   ]
  },
  {
   "cell_type": "code",
   "execution_count": 12,
   "id": "79e0233f",
   "metadata": {},
   "outputs": [],
   "source": [
    "#Checking if there is a file which is not in .wav format\n",
    "for i in files:\n",
    "    workfiles = os.listdir(workspace+\"/\"+i)\n",
    "    for j in workfiles:\n",
    "        if \".wav\" not in j:\n",
    "            print(i +\"/\"+j)\n",
    "            \n",
    "#if theres no output after running this cell, then it means that all files are in .wav format"
   ]
  },
  {
   "cell_type": "code",
   "execution_count": 13,
   "id": "9e85c38c",
   "metadata": {},
   "outputs": [],
   "source": [
    "import librosa \n",
    "import soundfile as sf \n",
    "import numpy as np"
   ]
  },
  {
   "cell_type": "code",
   "execution_count": 14,
   "id": "f967a106",
   "metadata": {},
   "outputs": [],
   "source": [
    "#lists for labels and features\n",
    "labels=[]\n",
    "features_mfcc=[]\n",
    "features_chroma=[]\n",
    "#features_mel=[]"
   ]
  },
  {
   "cell_type": "markdown",
   "id": "81453a42",
   "metadata": {},
   "source": [
    "# Finding features\n",
    "### Refference: Lecture Code Files"
   ]
  },
  {
   "cell_type": "code",
   "execution_count": 31,
   "id": "6a3af20b",
   "metadata": {},
   "outputs": [],
   "source": [
    "for i in files: # will get four main working folders\n",
    "    workfiles = os.listdir(workspace+\"/\"+i) \n",
    "    for audiofile in workfiles:\n",
    "        #Loading the audio file\n",
    "        x , sr = librosa.load(workspace+\"/\"+i+\"/\"+audiofile)\n",
    "        # x is audio time series and sr is sampling rate of x\n",
    "        #Documentation: https://librosa.org/doc/main/generated/librosa.load.html\n",
    "        \n",
    "        #MFCC Features\n",
    "        mfcc_features = librosa.feature.mfcc(y=x,sr=sr)\n",
    "        #MFCC_Features = librosa.feature.mfcc(y=x, sr=sr)\n",
    "        #Documentation: https://librosa.org/doc/main/generated/librosa.feature.mfcc.html\n",
    "        MFCC = mfcc_features.flatten().tolist()\n",
    "        #flatten() , turns a matrix to one dimension , tolist()  used to convert the data elements of an array into a list\n",
    "        \n",
    "        #Mel\n",
    "        #mel_features = librosa.feature.melspectrogram(y=x,sr=sr)\n",
    "        #MEL = mel_features.flatten().tolist()\n",
    "        ##Documentation: https://librosa.org/doc/main/generated/librosa.feature.melspectrogram.html\n",
    "        \n",
    "        #Chroma\n",
    "        chroma_features = librosa.feature.chroma_stft(y=x,sr=sr, hop_length=512)\n",
    "        #hop length if provided y, sr instead of S\n",
    "        CHROMA = chroma_features.flatten().tolist()\n",
    "        #Documentation: https://librosa.org/doc/main/generated/librosa.feature.chroma_stft.html\n",
    "\n",
    "        #Appending them in the lists\n",
    "        features_mfcc.append(MFCC)\n",
    "        features_mel.append(MEL)\n",
    "        features_chroma.append(CHROMA)\n",
    "        labels.append(i)\n",
    "        \n",
    "    "
   ]
  },
  {
   "cell_type": "markdown",
   "id": "4e311a41",
   "metadata": {},
   "source": [
    "# Making dataframe"
   ]
  },
  {
   "cell_type": "code",
   "execution_count": 33,
   "id": "5e5d35bc",
   "metadata": {},
   "outputs": [],
   "source": [
    "import pandas as pd"
   ]
  },
  {
   "cell_type": "code",
   "execution_count": 40,
   "id": "5f7b9d3e",
   "metadata": {},
   "outputs": [],
   "source": [
    "#Paddinng\n",
    "#aking the lengths same in mfcc\n",
    "size=[]\n",
    "for i in features_mfcc:\n",
    "    size.append(len(i))\n",
    "max_size = max(size)\n",
    "for i in features_mfcc:\n",
    "    while(len(i)<max_size):\n",
    "        i.append(0)"
   ]
  },
  {
   "cell_type": "markdown",
   "id": "07837e92",
   "metadata": {},
   "source": [
    "### Commenting out mel due to memory problems"
   ]
  },
  {
   "cell_type": "markdown",
   "id": "0a408cc7",
   "metadata": {},
   "source": [
    " #Making the lengths same in mel\n",
    "size=[]\n",
    "for i in features_mel:\n",
    "    size.append(len(i))\n",
    "max_size = max(size)\n",
    "for i in features_mel:\n",
    "    while(len(i)<max_size):\n",
    "        i.append(0)"
   ]
  },
  {
   "cell_type": "code",
   "execution_count": 39,
   "id": "87ef25a7",
   "metadata": {},
   "outputs": [],
   "source": [
    "#Making the lengths same in chroma\n",
    "size=[]\n",
    "for i in features_chroma:\n",
    "    size.append(len(i))\n",
    "max_size = max(size)\n",
    "for i in features_chroma:\n",
    "    while(len(i)<max_size):\n",
    "        i.append(0)"
   ]
  },
  {
   "cell_type": "markdown",
   "id": "153f1f60",
   "metadata": {},
   "source": [
    "### We can check if the above have worked by the following \n",
    "size=[]\n",
    "for i in features_[NAME-OF-LIST]:\n",
    "    size.append(len(i))\n",
    "print(\"LIST\")\n",
    "size.sort()\n",
    "for i in size:\n",
    "    print(i)\n"
   ]
  },
  {
   "cell_type": "markdown",
   "id": "1f5704b9",
   "metadata": {},
   "source": [
    "first creating seperate dataframes for inspection and analysis "
   ]
  },
  {
   "cell_type": "code",
   "execution_count": 64,
   "id": "d2d42483",
   "metadata": {},
   "outputs": [
    {
     "data": {
      "text/html": [
       "<div>\n",
       "<style scoped>\n",
       "    .dataframe tbody tr th:only-of-type {\n",
       "        vertical-align: middle;\n",
       "    }\n",
       "\n",
       "    .dataframe tbody tr th {\n",
       "        vertical-align: top;\n",
       "    }\n",
       "\n",
       "    .dataframe thead th {\n",
       "        text-align: right;\n",
       "    }\n",
       "</style>\n",
       "<table border=\"1\" class=\"dataframe\">\n",
       "  <thead>\n",
       "    <tr style=\"text-align: right;\">\n",
       "      <th></th>\n",
       "      <th>0</th>\n",
       "      <th>1</th>\n",
       "      <th>2</th>\n",
       "      <th>3</th>\n",
       "      <th>4</th>\n",
       "      <th>5</th>\n",
       "      <th>6</th>\n",
       "      <th>7</th>\n",
       "      <th>8</th>\n",
       "      <th>9</th>\n",
       "      <th>...</th>\n",
       "      <th>7590</th>\n",
       "      <th>7591</th>\n",
       "      <th>7592</th>\n",
       "      <th>7593</th>\n",
       "      <th>7594</th>\n",
       "      <th>7595</th>\n",
       "      <th>7596</th>\n",
       "      <th>7597</th>\n",
       "      <th>7598</th>\n",
       "      <th>7599</th>\n",
       "    </tr>\n",
       "  </thead>\n",
       "  <tbody>\n",
       "    <tr>\n",
       "      <th>0</th>\n",
       "      <td>-717.571228</td>\n",
       "      <td>-717.571228</td>\n",
       "      <td>-717.094116</td>\n",
       "      <td>-717.178101</td>\n",
       "      <td>-715.964844</td>\n",
       "      <td>-712.006409</td>\n",
       "      <td>-710.150024</td>\n",
       "      <td>-707.862488</td>\n",
       "      <td>-694.427612</td>\n",
       "      <td>-560.250366</td>\n",
       "      <td>...</td>\n",
       "      <td>0.0</td>\n",
       "      <td>0.0</td>\n",
       "      <td>0.0</td>\n",
       "      <td>0.0</td>\n",
       "      <td>0.0</td>\n",
       "      <td>0.0</td>\n",
       "      <td>0.0</td>\n",
       "      <td>0.0</td>\n",
       "      <td>0.0</td>\n",
       "      <td>0.0</td>\n",
       "    </tr>\n",
       "    <tr>\n",
       "      <th>1</th>\n",
       "      <td>-464.719177</td>\n",
       "      <td>-435.680176</td>\n",
       "      <td>-427.752899</td>\n",
       "      <td>-427.608093</td>\n",
       "      <td>-415.262909</td>\n",
       "      <td>-400.100555</td>\n",
       "      <td>-397.806396</td>\n",
       "      <td>-396.485565</td>\n",
       "      <td>-400.490112</td>\n",
       "      <td>-413.592468</td>\n",
       "      <td>...</td>\n",
       "      <td>0.0</td>\n",
       "      <td>0.0</td>\n",
       "      <td>0.0</td>\n",
       "      <td>0.0</td>\n",
       "      <td>0.0</td>\n",
       "      <td>0.0</td>\n",
       "      <td>0.0</td>\n",
       "      <td>0.0</td>\n",
       "      <td>0.0</td>\n",
       "      <td>0.0</td>\n",
       "    </tr>\n",
       "    <tr>\n",
       "      <th>2</th>\n",
       "      <td>-669.714966</td>\n",
       "      <td>-669.714966</td>\n",
       "      <td>-653.024780</td>\n",
       "      <td>-630.797241</td>\n",
       "      <td>-615.580383</td>\n",
       "      <td>-610.906921</td>\n",
       "      <td>-600.642273</td>\n",
       "      <td>-535.916504</td>\n",
       "      <td>-459.201721</td>\n",
       "      <td>-425.368225</td>\n",
       "      <td>...</td>\n",
       "      <td>0.0</td>\n",
       "      <td>0.0</td>\n",
       "      <td>0.0</td>\n",
       "      <td>0.0</td>\n",
       "      <td>0.0</td>\n",
       "      <td>0.0</td>\n",
       "      <td>0.0</td>\n",
       "      <td>0.0</td>\n",
       "      <td>0.0</td>\n",
       "      <td>0.0</td>\n",
       "    </tr>\n",
       "    <tr>\n",
       "      <th>3</th>\n",
       "      <td>-559.966003</td>\n",
       "      <td>-559.966003</td>\n",
       "      <td>-504.306396</td>\n",
       "      <td>-353.516449</td>\n",
       "      <td>-325.825806</td>\n",
       "      <td>-363.926147</td>\n",
       "      <td>-312.580627</td>\n",
       "      <td>-287.734955</td>\n",
       "      <td>-315.697266</td>\n",
       "      <td>-387.662048</td>\n",
       "      <td>...</td>\n",
       "      <td>0.0</td>\n",
       "      <td>0.0</td>\n",
       "      <td>0.0</td>\n",
       "      <td>0.0</td>\n",
       "      <td>0.0</td>\n",
       "      <td>0.0</td>\n",
       "      <td>0.0</td>\n",
       "      <td>0.0</td>\n",
       "      <td>0.0</td>\n",
       "      <td>0.0</td>\n",
       "    </tr>\n",
       "    <tr>\n",
       "      <th>4</th>\n",
       "      <td>-479.999390</td>\n",
       "      <td>-451.333221</td>\n",
       "      <td>-440.081940</td>\n",
       "      <td>-439.053131</td>\n",
       "      <td>-459.080139</td>\n",
       "      <td>-452.711304</td>\n",
       "      <td>-449.476593</td>\n",
       "      <td>-466.707092</td>\n",
       "      <td>-469.990448</td>\n",
       "      <td>-471.292572</td>\n",
       "      <td>...</td>\n",
       "      <td>0.0</td>\n",
       "      <td>0.0</td>\n",
       "      <td>0.0</td>\n",
       "      <td>0.0</td>\n",
       "      <td>0.0</td>\n",
       "      <td>0.0</td>\n",
       "      <td>0.0</td>\n",
       "      <td>0.0</td>\n",
       "      <td>0.0</td>\n",
       "      <td>0.0</td>\n",
       "    </tr>\n",
       "    <tr>\n",
       "      <th>...</th>\n",
       "      <td>...</td>\n",
       "      <td>...</td>\n",
       "      <td>...</td>\n",
       "      <td>...</td>\n",
       "      <td>...</td>\n",
       "      <td>...</td>\n",
       "      <td>...</td>\n",
       "      <td>...</td>\n",
       "      <td>...</td>\n",
       "      <td>...</td>\n",
       "      <td>...</td>\n",
       "      <td>...</td>\n",
       "      <td>...</td>\n",
       "      <td>...</td>\n",
       "      <td>...</td>\n",
       "      <td>...</td>\n",
       "      <td>...</td>\n",
       "      <td>...</td>\n",
       "      <td>...</td>\n",
       "      <td>...</td>\n",
       "      <td>...</td>\n",
       "    </tr>\n",
       "    <tr>\n",
       "      <th>6465</th>\n",
       "      <td>-529.709595</td>\n",
       "      <td>-527.415100</td>\n",
       "      <td>-529.143982</td>\n",
       "      <td>-528.172363</td>\n",
       "      <td>-528.828857</td>\n",
       "      <td>-530.919373</td>\n",
       "      <td>-531.886475</td>\n",
       "      <td>-530.017700</td>\n",
       "      <td>-531.164490</td>\n",
       "      <td>-532.587097</td>\n",
       "      <td>...</td>\n",
       "      <td>0.0</td>\n",
       "      <td>0.0</td>\n",
       "      <td>0.0</td>\n",
       "      <td>0.0</td>\n",
       "      <td>0.0</td>\n",
       "      <td>0.0</td>\n",
       "      <td>0.0</td>\n",
       "      <td>0.0</td>\n",
       "      <td>0.0</td>\n",
       "      <td>0.0</td>\n",
       "    </tr>\n",
       "    <tr>\n",
       "      <th>6466</th>\n",
       "      <td>-464.784149</td>\n",
       "      <td>-460.641052</td>\n",
       "      <td>-453.209167</td>\n",
       "      <td>-464.673676</td>\n",
       "      <td>-470.122131</td>\n",
       "      <td>-471.715820</td>\n",
       "      <td>-477.704041</td>\n",
       "      <td>-471.946808</td>\n",
       "      <td>-484.015198</td>\n",
       "      <td>-506.291992</td>\n",
       "      <td>...</td>\n",
       "      <td>0.0</td>\n",
       "      <td>0.0</td>\n",
       "      <td>0.0</td>\n",
       "      <td>0.0</td>\n",
       "      <td>0.0</td>\n",
       "      <td>0.0</td>\n",
       "      <td>0.0</td>\n",
       "      <td>0.0</td>\n",
       "      <td>0.0</td>\n",
       "      <td>0.0</td>\n",
       "    </tr>\n",
       "    <tr>\n",
       "      <th>6467</th>\n",
       "      <td>-464.784149</td>\n",
       "      <td>-460.641052</td>\n",
       "      <td>-453.209167</td>\n",
       "      <td>-464.673676</td>\n",
       "      <td>-470.122131</td>\n",
       "      <td>-471.715820</td>\n",
       "      <td>-477.704041</td>\n",
       "      <td>-471.946808</td>\n",
       "      <td>-484.015198</td>\n",
       "      <td>-506.291992</td>\n",
       "      <td>...</td>\n",
       "      <td>0.0</td>\n",
       "      <td>0.0</td>\n",
       "      <td>0.0</td>\n",
       "      <td>0.0</td>\n",
       "      <td>0.0</td>\n",
       "      <td>0.0</td>\n",
       "      <td>0.0</td>\n",
       "      <td>0.0</td>\n",
       "      <td>0.0</td>\n",
       "      <td>0.0</td>\n",
       "    </tr>\n",
       "    <tr>\n",
       "      <th>6468</th>\n",
       "      <td>-527.008972</td>\n",
       "      <td>-527.441284</td>\n",
       "      <td>-526.546326</td>\n",
       "      <td>-523.662842</td>\n",
       "      <td>-521.486084</td>\n",
       "      <td>-524.662842</td>\n",
       "      <td>-527.098511</td>\n",
       "      <td>-522.540039</td>\n",
       "      <td>-523.548584</td>\n",
       "      <td>-526.251709</td>\n",
       "      <td>...</td>\n",
       "      <td>0.0</td>\n",
       "      <td>0.0</td>\n",
       "      <td>0.0</td>\n",
       "      <td>0.0</td>\n",
       "      <td>0.0</td>\n",
       "      <td>0.0</td>\n",
       "      <td>0.0</td>\n",
       "      <td>0.0</td>\n",
       "      <td>0.0</td>\n",
       "      <td>0.0</td>\n",
       "    </tr>\n",
       "    <tr>\n",
       "      <th>6469</th>\n",
       "      <td>-510.370361</td>\n",
       "      <td>-509.661713</td>\n",
       "      <td>-512.706360</td>\n",
       "      <td>-520.043518</td>\n",
       "      <td>-515.890564</td>\n",
       "      <td>-518.133484</td>\n",
       "      <td>-522.797302</td>\n",
       "      <td>-520.182617</td>\n",
       "      <td>-518.880188</td>\n",
       "      <td>-524.791016</td>\n",
       "      <td>...</td>\n",
       "      <td>0.0</td>\n",
       "      <td>0.0</td>\n",
       "      <td>0.0</td>\n",
       "      <td>0.0</td>\n",
       "      <td>0.0</td>\n",
       "      <td>0.0</td>\n",
       "      <td>0.0</td>\n",
       "      <td>0.0</td>\n",
       "      <td>0.0</td>\n",
       "      <td>0.0</td>\n",
       "    </tr>\n",
       "  </tbody>\n",
       "</table>\n",
       "<p>6470 rows × 7600 columns</p>\n",
       "</div>"
      ],
      "text/plain": [
       "            0           1           2           3           4           5     \\\n",
       "0    -717.571228 -717.571228 -717.094116 -717.178101 -715.964844 -712.006409   \n",
       "1    -464.719177 -435.680176 -427.752899 -427.608093 -415.262909 -400.100555   \n",
       "2    -669.714966 -669.714966 -653.024780 -630.797241 -615.580383 -610.906921   \n",
       "3    -559.966003 -559.966003 -504.306396 -353.516449 -325.825806 -363.926147   \n",
       "4    -479.999390 -451.333221 -440.081940 -439.053131 -459.080139 -452.711304   \n",
       "...          ...         ...         ...         ...         ...         ...   \n",
       "6465 -529.709595 -527.415100 -529.143982 -528.172363 -528.828857 -530.919373   \n",
       "6466 -464.784149 -460.641052 -453.209167 -464.673676 -470.122131 -471.715820   \n",
       "6467 -464.784149 -460.641052 -453.209167 -464.673676 -470.122131 -471.715820   \n",
       "6468 -527.008972 -527.441284 -526.546326 -523.662842 -521.486084 -524.662842   \n",
       "6469 -510.370361 -509.661713 -512.706360 -520.043518 -515.890564 -518.133484   \n",
       "\n",
       "            6           7           8           9     ...  7590  7591  7592  \\\n",
       "0    -710.150024 -707.862488 -694.427612 -560.250366  ...   0.0   0.0   0.0   \n",
       "1    -397.806396 -396.485565 -400.490112 -413.592468  ...   0.0   0.0   0.0   \n",
       "2    -600.642273 -535.916504 -459.201721 -425.368225  ...   0.0   0.0   0.0   \n",
       "3    -312.580627 -287.734955 -315.697266 -387.662048  ...   0.0   0.0   0.0   \n",
       "4    -449.476593 -466.707092 -469.990448 -471.292572  ...   0.0   0.0   0.0   \n",
       "...          ...         ...         ...         ...  ...   ...   ...   ...   \n",
       "6465 -531.886475 -530.017700 -531.164490 -532.587097  ...   0.0   0.0   0.0   \n",
       "6466 -477.704041 -471.946808 -484.015198 -506.291992  ...   0.0   0.0   0.0   \n",
       "6467 -477.704041 -471.946808 -484.015198 -506.291992  ...   0.0   0.0   0.0   \n",
       "6468 -527.098511 -522.540039 -523.548584 -526.251709  ...   0.0   0.0   0.0   \n",
       "6469 -522.797302 -520.182617 -518.880188 -524.791016  ...   0.0   0.0   0.0   \n",
       "\n",
       "      7593  7594  7595  7596  7597  7598  7599  \n",
       "0      0.0   0.0   0.0   0.0   0.0   0.0   0.0  \n",
       "1      0.0   0.0   0.0   0.0   0.0   0.0   0.0  \n",
       "2      0.0   0.0   0.0   0.0   0.0   0.0   0.0  \n",
       "3      0.0   0.0   0.0   0.0   0.0   0.0   0.0  \n",
       "4      0.0   0.0   0.0   0.0   0.0   0.0   0.0  \n",
       "...    ...   ...   ...   ...   ...   ...   ...  \n",
       "6465   0.0   0.0   0.0   0.0   0.0   0.0   0.0  \n",
       "6466   0.0   0.0   0.0   0.0   0.0   0.0   0.0  \n",
       "6467   0.0   0.0   0.0   0.0   0.0   0.0   0.0  \n",
       "6468   0.0   0.0   0.0   0.0   0.0   0.0   0.0  \n",
       "6469   0.0   0.0   0.0   0.0   0.0   0.0   0.0  \n",
       "\n",
       "[6470 rows x 7600 columns]"
      ]
     },
     "execution_count": 64,
     "metadata": {},
     "output_type": "execute_result"
    }
   ],
   "source": [
    "df = pd.DataFrame(features_mfcc)\n",
    "df"
   ]
  },
  {
   "cell_type": "code",
   "execution_count": 44,
   "id": "333ee893",
   "metadata": {},
   "outputs": [
    {
     "data": {
      "text/html": [
       "<div>\n",
       "<style scoped>\n",
       "    .dataframe tbody tr th:only-of-type {\n",
       "        vertical-align: middle;\n",
       "    }\n",
       "\n",
       "    .dataframe tbody tr th {\n",
       "        vertical-align: top;\n",
       "    }\n",
       "\n",
       "    .dataframe thead th {\n",
       "        text-align: right;\n",
       "    }\n",
       "</style>\n",
       "<table border=\"1\" class=\"dataframe\">\n",
       "  <thead>\n",
       "    <tr style=\"text-align: right;\">\n",
       "      <th></th>\n",
       "      <th>0</th>\n",
       "      <th>1</th>\n",
       "      <th>2</th>\n",
       "      <th>3</th>\n",
       "      <th>4</th>\n",
       "      <th>5</th>\n",
       "      <th>6</th>\n",
       "      <th>7</th>\n",
       "      <th>8</th>\n",
       "      <th>9</th>\n",
       "      <th>...</th>\n",
       "      <th>48630</th>\n",
       "      <th>48631</th>\n",
       "      <th>48632</th>\n",
       "      <th>48633</th>\n",
       "      <th>48634</th>\n",
       "      <th>48635</th>\n",
       "      <th>48636</th>\n",
       "      <th>48637</th>\n",
       "      <th>48638</th>\n",
       "      <th>48639</th>\n",
       "    </tr>\n",
       "  </thead>\n",
       "  <tbody>\n",
       "    <tr>\n",
       "      <th>0</th>\n",
       "      <td>4.165987e-11</td>\n",
       "      <td>3.550763e-07</td>\n",
       "      <td>1.575071e-06</td>\n",
       "      <td>1.265610e-06</td>\n",
       "      <td>1.225650e-06</td>\n",
       "      <td>1.785636e-06</td>\n",
       "      <td>2.955318e-06</td>\n",
       "      <td>2.677397e-06</td>\n",
       "      <td>2.971102e-06</td>\n",
       "      <td>1.174463e-05</td>\n",
       "      <td>...</td>\n",
       "      <td>0.0</td>\n",
       "      <td>0.0</td>\n",
       "      <td>0.0</td>\n",
       "      <td>0.0</td>\n",
       "      <td>0.0</td>\n",
       "      <td>0.0</td>\n",
       "      <td>0.0</td>\n",
       "      <td>0.0</td>\n",
       "      <td>0.0</td>\n",
       "      <td>0.0</td>\n",
       "    </tr>\n",
       "    <tr>\n",
       "      <th>1</th>\n",
       "      <td>1.800816e-01</td>\n",
       "      <td>1.116742e+00</td>\n",
       "      <td>1.974908e+00</td>\n",
       "      <td>6.212555e-01</td>\n",
       "      <td>1.547962e-01</td>\n",
       "      <td>1.688817e-01</td>\n",
       "      <td>6.999807e-01</td>\n",
       "      <td>2.722207e+00</td>\n",
       "      <td>2.590015e+00</td>\n",
       "      <td>1.406165e+00</td>\n",
       "      <td>...</td>\n",
       "      <td>0.0</td>\n",
       "      <td>0.0</td>\n",
       "      <td>0.0</td>\n",
       "      <td>0.0</td>\n",
       "      <td>0.0</td>\n",
       "      <td>0.0</td>\n",
       "      <td>0.0</td>\n",
       "      <td>0.0</td>\n",
       "      <td>0.0</td>\n",
       "      <td>0.0</td>\n",
       "    </tr>\n",
       "    <tr>\n",
       "      <th>2</th>\n",
       "      <td>1.991209e-20</td>\n",
       "      <td>1.741525e-08</td>\n",
       "      <td>2.343182e-06</td>\n",
       "      <td>6.632808e-06</td>\n",
       "      <td>7.245373e-06</td>\n",
       "      <td>1.695689e-05</td>\n",
       "      <td>1.008681e-05</td>\n",
       "      <td>2.558071e-05</td>\n",
       "      <td>5.455211e-05</td>\n",
       "      <td>3.397612e-04</td>\n",
       "      <td>...</td>\n",
       "      <td>0.0</td>\n",
       "      <td>0.0</td>\n",
       "      <td>0.0</td>\n",
       "      <td>0.0</td>\n",
       "      <td>0.0</td>\n",
       "      <td>0.0</td>\n",
       "      <td>0.0</td>\n",
       "      <td>0.0</td>\n",
       "      <td>0.0</td>\n",
       "      <td>0.0</td>\n",
       "    </tr>\n",
       "    <tr>\n",
       "      <th>3</th>\n",
       "      <td>0.000000e+00</td>\n",
       "      <td>7.683984e-10</td>\n",
       "      <td>1.038653e-04</td>\n",
       "      <td>4.839891e-02</td>\n",
       "      <td>3.479781e-01</td>\n",
       "      <td>2.407075e-01</td>\n",
       "      <td>4.661966e-02</td>\n",
       "      <td>1.685714e-01</td>\n",
       "      <td>2.991833e-01</td>\n",
       "      <td>1.410509e-01</td>\n",
       "      <td>...</td>\n",
       "      <td>0.0</td>\n",
       "      <td>0.0</td>\n",
       "      <td>0.0</td>\n",
       "      <td>0.0</td>\n",
       "      <td>0.0</td>\n",
       "      <td>0.0</td>\n",
       "      <td>0.0</td>\n",
       "      <td>0.0</td>\n",
       "      <td>0.0</td>\n",
       "      <td>0.0</td>\n",
       "    </tr>\n",
       "    <tr>\n",
       "      <th>4</th>\n",
       "      <td>4.851622e-03</td>\n",
       "      <td>3.073770e-03</td>\n",
       "      <td>1.215425e-04</td>\n",
       "      <td>5.049259e-06</td>\n",
       "      <td>2.143584e-06</td>\n",
       "      <td>1.623434e-06</td>\n",
       "      <td>2.167634e-06</td>\n",
       "      <td>1.904143e-06</td>\n",
       "      <td>1.292448e-06</td>\n",
       "      <td>8.480072e-07</td>\n",
       "      <td>...</td>\n",
       "      <td>0.0</td>\n",
       "      <td>0.0</td>\n",
       "      <td>0.0</td>\n",
       "      <td>0.0</td>\n",
       "      <td>0.0</td>\n",
       "      <td>0.0</td>\n",
       "      <td>0.0</td>\n",
       "      <td>0.0</td>\n",
       "      <td>0.0</td>\n",
       "      <td>0.0</td>\n",
       "    </tr>\n",
       "    <tr>\n",
       "      <th>...</th>\n",
       "      <td>...</td>\n",
       "      <td>...</td>\n",
       "      <td>...</td>\n",
       "      <td>...</td>\n",
       "      <td>...</td>\n",
       "      <td>...</td>\n",
       "      <td>...</td>\n",
       "      <td>...</td>\n",
       "      <td>...</td>\n",
       "      <td>...</td>\n",
       "      <td>...</td>\n",
       "      <td>...</td>\n",
       "      <td>...</td>\n",
       "      <td>...</td>\n",
       "      <td>...</td>\n",
       "      <td>...</td>\n",
       "      <td>...</td>\n",
       "      <td>...</td>\n",
       "      <td>...</td>\n",
       "      <td>...</td>\n",
       "      <td>...</td>\n",
       "    </tr>\n",
       "    <tr>\n",
       "      <th>6465</th>\n",
       "      <td>6.458414e-05</td>\n",
       "      <td>6.678714e-05</td>\n",
       "      <td>1.336043e-05</td>\n",
       "      <td>2.312008e-05</td>\n",
       "      <td>2.276040e-05</td>\n",
       "      <td>2.900427e-06</td>\n",
       "      <td>1.149681e-06</td>\n",
       "      <td>1.976910e-06</td>\n",
       "      <td>1.265077e-06</td>\n",
       "      <td>2.361194e-07</td>\n",
       "      <td>...</td>\n",
       "      <td>0.0</td>\n",
       "      <td>0.0</td>\n",
       "      <td>0.0</td>\n",
       "      <td>0.0</td>\n",
       "      <td>0.0</td>\n",
       "      <td>0.0</td>\n",
       "      <td>0.0</td>\n",
       "      <td>0.0</td>\n",
       "      <td>0.0</td>\n",
       "      <td>0.0</td>\n",
       "    </tr>\n",
       "    <tr>\n",
       "      <th>6466</th>\n",
       "      <td>6.356151e-03</td>\n",
       "      <td>3.652806e-03</td>\n",
       "      <td>3.043191e-04</td>\n",
       "      <td>8.981446e-05</td>\n",
       "      <td>1.473218e-05</td>\n",
       "      <td>9.217750e-06</td>\n",
       "      <td>4.315113e-06</td>\n",
       "      <td>8.981945e-06</td>\n",
       "      <td>3.474704e-06</td>\n",
       "      <td>2.163626e-06</td>\n",
       "      <td>...</td>\n",
       "      <td>0.0</td>\n",
       "      <td>0.0</td>\n",
       "      <td>0.0</td>\n",
       "      <td>0.0</td>\n",
       "      <td>0.0</td>\n",
       "      <td>0.0</td>\n",
       "      <td>0.0</td>\n",
       "      <td>0.0</td>\n",
       "      <td>0.0</td>\n",
       "      <td>0.0</td>\n",
       "    </tr>\n",
       "    <tr>\n",
       "      <th>6467</th>\n",
       "      <td>6.356151e-03</td>\n",
       "      <td>3.652806e-03</td>\n",
       "      <td>3.043191e-04</td>\n",
       "      <td>8.981446e-05</td>\n",
       "      <td>1.473218e-05</td>\n",
       "      <td>9.217750e-06</td>\n",
       "      <td>4.315113e-06</td>\n",
       "      <td>8.981945e-06</td>\n",
       "      <td>3.474704e-06</td>\n",
       "      <td>2.163626e-06</td>\n",
       "      <td>...</td>\n",
       "      <td>0.0</td>\n",
       "      <td>0.0</td>\n",
       "      <td>0.0</td>\n",
       "      <td>0.0</td>\n",
       "      <td>0.0</td>\n",
       "      <td>0.0</td>\n",
       "      <td>0.0</td>\n",
       "      <td>0.0</td>\n",
       "      <td>0.0</td>\n",
       "      <td>0.0</td>\n",
       "    </tr>\n",
       "    <tr>\n",
       "      <th>6468</th>\n",
       "      <td>3.187979e-08</td>\n",
       "      <td>3.509399e-07</td>\n",
       "      <td>3.064574e-07</td>\n",
       "      <td>4.959753e-08</td>\n",
       "      <td>2.021877e-07</td>\n",
       "      <td>1.702432e-07</td>\n",
       "      <td>1.304670e-07</td>\n",
       "      <td>1.126693e-07</td>\n",
       "      <td>8.262455e-08</td>\n",
       "      <td>1.176826e-07</td>\n",
       "      <td>...</td>\n",
       "      <td>0.0</td>\n",
       "      <td>0.0</td>\n",
       "      <td>0.0</td>\n",
       "      <td>0.0</td>\n",
       "      <td>0.0</td>\n",
       "      <td>0.0</td>\n",
       "      <td>0.0</td>\n",
       "      <td>0.0</td>\n",
       "      <td>0.0</td>\n",
       "      <td>0.0</td>\n",
       "    </tr>\n",
       "    <tr>\n",
       "      <th>6469</th>\n",
       "      <td>7.003891e-05</td>\n",
       "      <td>2.084678e-05</td>\n",
       "      <td>1.903586e-06</td>\n",
       "      <td>1.521472e-06</td>\n",
       "      <td>3.982587e-07</td>\n",
       "      <td>7.835415e-08</td>\n",
       "      <td>1.674702e-07</td>\n",
       "      <td>3.354143e-07</td>\n",
       "      <td>1.381013e-06</td>\n",
       "      <td>7.943848e-07</td>\n",
       "      <td>...</td>\n",
       "      <td>0.0</td>\n",
       "      <td>0.0</td>\n",
       "      <td>0.0</td>\n",
       "      <td>0.0</td>\n",
       "      <td>0.0</td>\n",
       "      <td>0.0</td>\n",
       "      <td>0.0</td>\n",
       "      <td>0.0</td>\n",
       "      <td>0.0</td>\n",
       "      <td>0.0</td>\n",
       "    </tr>\n",
       "  </tbody>\n",
       "</table>\n",
       "<p>6470 rows × 48640 columns</p>\n",
       "</div>"
      ],
      "text/plain": [
       "             0             1             2             3             4      \\\n",
       "0     4.165987e-11  3.550763e-07  1.575071e-06  1.265610e-06  1.225650e-06   \n",
       "1     1.800816e-01  1.116742e+00  1.974908e+00  6.212555e-01  1.547962e-01   \n",
       "2     1.991209e-20  1.741525e-08  2.343182e-06  6.632808e-06  7.245373e-06   \n",
       "3     0.000000e+00  7.683984e-10  1.038653e-04  4.839891e-02  3.479781e-01   \n",
       "4     4.851622e-03  3.073770e-03  1.215425e-04  5.049259e-06  2.143584e-06   \n",
       "...            ...           ...           ...           ...           ...   \n",
       "6465  6.458414e-05  6.678714e-05  1.336043e-05  2.312008e-05  2.276040e-05   \n",
       "6466  6.356151e-03  3.652806e-03  3.043191e-04  8.981446e-05  1.473218e-05   \n",
       "6467  6.356151e-03  3.652806e-03  3.043191e-04  8.981446e-05  1.473218e-05   \n",
       "6468  3.187979e-08  3.509399e-07  3.064574e-07  4.959753e-08  2.021877e-07   \n",
       "6469  7.003891e-05  2.084678e-05  1.903586e-06  1.521472e-06  3.982587e-07   \n",
       "\n",
       "             5             6             7             8             9      \\\n",
       "0     1.785636e-06  2.955318e-06  2.677397e-06  2.971102e-06  1.174463e-05   \n",
       "1     1.688817e-01  6.999807e-01  2.722207e+00  2.590015e+00  1.406165e+00   \n",
       "2     1.695689e-05  1.008681e-05  2.558071e-05  5.455211e-05  3.397612e-04   \n",
       "3     2.407075e-01  4.661966e-02  1.685714e-01  2.991833e-01  1.410509e-01   \n",
       "4     1.623434e-06  2.167634e-06  1.904143e-06  1.292448e-06  8.480072e-07   \n",
       "...            ...           ...           ...           ...           ...   \n",
       "6465  2.900427e-06  1.149681e-06  1.976910e-06  1.265077e-06  2.361194e-07   \n",
       "6466  9.217750e-06  4.315113e-06  8.981945e-06  3.474704e-06  2.163626e-06   \n",
       "6467  9.217750e-06  4.315113e-06  8.981945e-06  3.474704e-06  2.163626e-06   \n",
       "6468  1.702432e-07  1.304670e-07  1.126693e-07  8.262455e-08  1.176826e-07   \n",
       "6469  7.835415e-08  1.674702e-07  3.354143e-07  1.381013e-06  7.943848e-07   \n",
       "\n",
       "      ...  48630  48631  48632  48633  48634  48635  48636  48637  48638  \\\n",
       "0     ...    0.0    0.0    0.0    0.0    0.0    0.0    0.0    0.0    0.0   \n",
       "1     ...    0.0    0.0    0.0    0.0    0.0    0.0    0.0    0.0    0.0   \n",
       "2     ...    0.0    0.0    0.0    0.0    0.0    0.0    0.0    0.0    0.0   \n",
       "3     ...    0.0    0.0    0.0    0.0    0.0    0.0    0.0    0.0    0.0   \n",
       "4     ...    0.0    0.0    0.0    0.0    0.0    0.0    0.0    0.0    0.0   \n",
       "...   ...    ...    ...    ...    ...    ...    ...    ...    ...    ...   \n",
       "6465  ...    0.0    0.0    0.0    0.0    0.0    0.0    0.0    0.0    0.0   \n",
       "6466  ...    0.0    0.0    0.0    0.0    0.0    0.0    0.0    0.0    0.0   \n",
       "6467  ...    0.0    0.0    0.0    0.0    0.0    0.0    0.0    0.0    0.0   \n",
       "6468  ...    0.0    0.0    0.0    0.0    0.0    0.0    0.0    0.0    0.0   \n",
       "6469  ...    0.0    0.0    0.0    0.0    0.0    0.0    0.0    0.0    0.0   \n",
       "\n",
       "      48639  \n",
       "0       0.0  \n",
       "1       0.0  \n",
       "2       0.0  \n",
       "3       0.0  \n",
       "4       0.0  \n",
       "...     ...  \n",
       "6465    0.0  \n",
       "6466    0.0  \n",
       "6467    0.0  \n",
       "6468    0.0  \n",
       "6469    0.0  \n",
       "\n",
       "[6470 rows x 48640 columns]"
      ]
     },
     "execution_count": 44,
     "metadata": {},
     "output_type": "execute_result"
    }
   ],
   "source": [
    "df2 = pd.DataFrame(features_mel)\n",
    "df2 "
   ]
  },
  {
   "cell_type": "code",
   "execution_count": 45,
   "id": "bf90100f",
   "metadata": {},
   "outputs": [
    {
     "data": {
      "text/html": [
       "<div>\n",
       "<style scoped>\n",
       "    .dataframe tbody tr th:only-of-type {\n",
       "        vertical-align: middle;\n",
       "    }\n",
       "\n",
       "    .dataframe tbody tr th {\n",
       "        vertical-align: top;\n",
       "    }\n",
       "\n",
       "    .dataframe thead th {\n",
       "        text-align: right;\n",
       "    }\n",
       "</style>\n",
       "<table border=\"1\" class=\"dataframe\">\n",
       "  <thead>\n",
       "    <tr style=\"text-align: right;\">\n",
       "      <th></th>\n",
       "      <th>0</th>\n",
       "      <th>1</th>\n",
       "      <th>2</th>\n",
       "      <th>3</th>\n",
       "      <th>4</th>\n",
       "      <th>5</th>\n",
       "      <th>6</th>\n",
       "      <th>7</th>\n",
       "      <th>8</th>\n",
       "      <th>9</th>\n",
       "      <th>...</th>\n",
       "      <th>4550</th>\n",
       "      <th>4551</th>\n",
       "      <th>4552</th>\n",
       "      <th>4553</th>\n",
       "      <th>4554</th>\n",
       "      <th>4555</th>\n",
       "      <th>4556</th>\n",
       "      <th>4557</th>\n",
       "      <th>4558</th>\n",
       "      <th>4559</th>\n",
       "    </tr>\n",
       "  </thead>\n",
       "  <tbody>\n",
       "    <tr>\n",
       "      <th>0</th>\n",
       "      <td>0.470189</td>\n",
       "      <td>0.684036</td>\n",
       "      <td>0.617466</td>\n",
       "      <td>0.558993</td>\n",
       "      <td>0.787824</td>\n",
       "      <td>0.683851</td>\n",
       "      <td>0.497253</td>\n",
       "      <td>1.000000</td>\n",
       "      <td>0.247962</td>\n",
       "      <td>1.000000</td>\n",
       "      <td>...</td>\n",
       "      <td>0.0</td>\n",
       "      <td>0.0</td>\n",
       "      <td>0.0</td>\n",
       "      <td>0.0</td>\n",
       "      <td>0.0</td>\n",
       "      <td>0.0</td>\n",
       "      <td>0.0</td>\n",
       "      <td>0.0</td>\n",
       "      <td>0.0</td>\n",
       "      <td>0.0</td>\n",
       "    </tr>\n",
       "    <tr>\n",
       "      <th>1</th>\n",
       "      <td>0.149285</td>\n",
       "      <td>0.142725</td>\n",
       "      <td>0.200227</td>\n",
       "      <td>0.157327</td>\n",
       "      <td>0.133072</td>\n",
       "      <td>0.151773</td>\n",
       "      <td>0.164116</td>\n",
       "      <td>0.257812</td>\n",
       "      <td>0.292213</td>\n",
       "      <td>0.323082</td>\n",
       "      <td>...</td>\n",
       "      <td>0.0</td>\n",
       "      <td>0.0</td>\n",
       "      <td>0.0</td>\n",
       "      <td>0.0</td>\n",
       "      <td>0.0</td>\n",
       "      <td>0.0</td>\n",
       "      <td>0.0</td>\n",
       "      <td>0.0</td>\n",
       "      <td>0.0</td>\n",
       "      <td>0.0</td>\n",
       "    </tr>\n",
       "    <tr>\n",
       "      <th>2</th>\n",
       "      <td>0.050212</td>\n",
       "      <td>0.624912</td>\n",
       "      <td>0.362520</td>\n",
       "      <td>0.382047</td>\n",
       "      <td>0.297485</td>\n",
       "      <td>0.263015</td>\n",
       "      <td>0.480353</td>\n",
       "      <td>0.653854</td>\n",
       "      <td>0.510419</td>\n",
       "      <td>0.687999</td>\n",
       "      <td>...</td>\n",
       "      <td>0.0</td>\n",
       "      <td>0.0</td>\n",
       "      <td>0.0</td>\n",
       "      <td>0.0</td>\n",
       "      <td>0.0</td>\n",
       "      <td>0.0</td>\n",
       "      <td>0.0</td>\n",
       "      <td>0.0</td>\n",
       "      <td>0.0</td>\n",
       "      <td>0.0</td>\n",
       "    </tr>\n",
       "    <tr>\n",
       "      <th>3</th>\n",
       "      <td>0.000000</td>\n",
       "      <td>0.702184</td>\n",
       "      <td>0.650681</td>\n",
       "      <td>0.799259</td>\n",
       "      <td>0.728589</td>\n",
       "      <td>0.975572</td>\n",
       "      <td>0.941173</td>\n",
       "      <td>1.000000</td>\n",
       "      <td>0.753297</td>\n",
       "      <td>1.000000</td>\n",
       "      <td>...</td>\n",
       "      <td>0.0</td>\n",
       "      <td>0.0</td>\n",
       "      <td>0.0</td>\n",
       "      <td>0.0</td>\n",
       "      <td>0.0</td>\n",
       "      <td>0.0</td>\n",
       "      <td>0.0</td>\n",
       "      <td>0.0</td>\n",
       "      <td>0.0</td>\n",
       "      <td>0.0</td>\n",
       "    </tr>\n",
       "    <tr>\n",
       "      <th>4</th>\n",
       "      <td>0.666446</td>\n",
       "      <td>0.960129</td>\n",
       "      <td>0.878247</td>\n",
       "      <td>0.515263</td>\n",
       "      <td>0.310933</td>\n",
       "      <td>0.132549</td>\n",
       "      <td>0.246450</td>\n",
       "      <td>0.507481</td>\n",
       "      <td>0.395239</td>\n",
       "      <td>0.211162</td>\n",
       "      <td>...</td>\n",
       "      <td>0.0</td>\n",
       "      <td>0.0</td>\n",
       "      <td>0.0</td>\n",
       "      <td>0.0</td>\n",
       "      <td>0.0</td>\n",
       "      <td>0.0</td>\n",
       "      <td>0.0</td>\n",
       "      <td>0.0</td>\n",
       "      <td>0.0</td>\n",
       "      <td>0.0</td>\n",
       "    </tr>\n",
       "    <tr>\n",
       "      <th>...</th>\n",
       "      <td>...</td>\n",
       "      <td>...</td>\n",
       "      <td>...</td>\n",
       "      <td>...</td>\n",
       "      <td>...</td>\n",
       "      <td>...</td>\n",
       "      <td>...</td>\n",
       "      <td>...</td>\n",
       "      <td>...</td>\n",
       "      <td>...</td>\n",
       "      <td>...</td>\n",
       "      <td>...</td>\n",
       "      <td>...</td>\n",
       "      <td>...</td>\n",
       "      <td>...</td>\n",
       "      <td>...</td>\n",
       "      <td>...</td>\n",
       "      <td>...</td>\n",
       "      <td>...</td>\n",
       "      <td>...</td>\n",
       "      <td>...</td>\n",
       "    </tr>\n",
       "    <tr>\n",
       "      <th>6465</th>\n",
       "      <td>0.072135</td>\n",
       "      <td>0.045794</td>\n",
       "      <td>0.016710</td>\n",
       "      <td>0.018954</td>\n",
       "      <td>0.023224</td>\n",
       "      <td>0.024909</td>\n",
       "      <td>0.022122</td>\n",
       "      <td>0.144225</td>\n",
       "      <td>0.591285</td>\n",
       "      <td>0.231273</td>\n",
       "      <td>...</td>\n",
       "      <td>0.0</td>\n",
       "      <td>0.0</td>\n",
       "      <td>0.0</td>\n",
       "      <td>0.0</td>\n",
       "      <td>0.0</td>\n",
       "      <td>0.0</td>\n",
       "      <td>0.0</td>\n",
       "      <td>0.0</td>\n",
       "      <td>0.0</td>\n",
       "      <td>0.0</td>\n",
       "    </tr>\n",
       "    <tr>\n",
       "      <th>6466</th>\n",
       "      <td>0.758147</td>\n",
       "      <td>0.185701</td>\n",
       "      <td>0.038428</td>\n",
       "      <td>0.020509</td>\n",
       "      <td>0.033073</td>\n",
       "      <td>0.051874</td>\n",
       "      <td>0.040131</td>\n",
       "      <td>0.407115</td>\n",
       "      <td>1.000000</td>\n",
       "      <td>0.518549</td>\n",
       "      <td>...</td>\n",
       "      <td>0.0</td>\n",
       "      <td>0.0</td>\n",
       "      <td>0.0</td>\n",
       "      <td>0.0</td>\n",
       "      <td>0.0</td>\n",
       "      <td>0.0</td>\n",
       "      <td>0.0</td>\n",
       "      <td>0.0</td>\n",
       "      <td>0.0</td>\n",
       "      <td>0.0</td>\n",
       "    </tr>\n",
       "    <tr>\n",
       "      <th>6467</th>\n",
       "      <td>0.758147</td>\n",
       "      <td>0.185701</td>\n",
       "      <td>0.038428</td>\n",
       "      <td>0.020509</td>\n",
       "      <td>0.033073</td>\n",
       "      <td>0.051874</td>\n",
       "      <td>0.040131</td>\n",
       "      <td>0.407115</td>\n",
       "      <td>1.000000</td>\n",
       "      <td>0.518549</td>\n",
       "      <td>...</td>\n",
       "      <td>0.0</td>\n",
       "      <td>0.0</td>\n",
       "      <td>0.0</td>\n",
       "      <td>0.0</td>\n",
       "      <td>0.0</td>\n",
       "      <td>0.0</td>\n",
       "      <td>0.0</td>\n",
       "      <td>0.0</td>\n",
       "      <td>0.0</td>\n",
       "      <td>0.0</td>\n",
       "    </tr>\n",
       "    <tr>\n",
       "      <th>6468</th>\n",
       "      <td>0.115643</td>\n",
       "      <td>0.251618</td>\n",
       "      <td>0.247443</td>\n",
       "      <td>0.294323</td>\n",
       "      <td>0.136987</td>\n",
       "      <td>0.169756</td>\n",
       "      <td>0.224863</td>\n",
       "      <td>0.325488</td>\n",
       "      <td>0.215085</td>\n",
       "      <td>0.614748</td>\n",
       "      <td>...</td>\n",
       "      <td>0.0</td>\n",
       "      <td>0.0</td>\n",
       "      <td>0.0</td>\n",
       "      <td>0.0</td>\n",
       "      <td>0.0</td>\n",
       "      <td>0.0</td>\n",
       "      <td>0.0</td>\n",
       "      <td>0.0</td>\n",
       "      <td>0.0</td>\n",
       "      <td>0.0</td>\n",
       "    </tr>\n",
       "    <tr>\n",
       "      <th>6469</th>\n",
       "      <td>0.260933</td>\n",
       "      <td>0.331411</td>\n",
       "      <td>0.227087</td>\n",
       "      <td>0.268847</td>\n",
       "      <td>0.116437</td>\n",
       "      <td>0.122898</td>\n",
       "      <td>0.223956</td>\n",
       "      <td>0.856996</td>\n",
       "      <td>0.574751</td>\n",
       "      <td>0.246467</td>\n",
       "      <td>...</td>\n",
       "      <td>0.0</td>\n",
       "      <td>0.0</td>\n",
       "      <td>0.0</td>\n",
       "      <td>0.0</td>\n",
       "      <td>0.0</td>\n",
       "      <td>0.0</td>\n",
       "      <td>0.0</td>\n",
       "      <td>0.0</td>\n",
       "      <td>0.0</td>\n",
       "      <td>0.0</td>\n",
       "    </tr>\n",
       "  </tbody>\n",
       "</table>\n",
       "<p>6470 rows × 4560 columns</p>\n",
       "</div>"
      ],
      "text/plain": [
       "          0         1         2         3         4         5         6     \\\n",
       "0     0.470189  0.684036  0.617466  0.558993  0.787824  0.683851  0.497253   \n",
       "1     0.149285  0.142725  0.200227  0.157327  0.133072  0.151773  0.164116   \n",
       "2     0.050212  0.624912  0.362520  0.382047  0.297485  0.263015  0.480353   \n",
       "3     0.000000  0.702184  0.650681  0.799259  0.728589  0.975572  0.941173   \n",
       "4     0.666446  0.960129  0.878247  0.515263  0.310933  0.132549  0.246450   \n",
       "...        ...       ...       ...       ...       ...       ...       ...   \n",
       "6465  0.072135  0.045794  0.016710  0.018954  0.023224  0.024909  0.022122   \n",
       "6466  0.758147  0.185701  0.038428  0.020509  0.033073  0.051874  0.040131   \n",
       "6467  0.758147  0.185701  0.038428  0.020509  0.033073  0.051874  0.040131   \n",
       "6468  0.115643  0.251618  0.247443  0.294323  0.136987  0.169756  0.224863   \n",
       "6469  0.260933  0.331411  0.227087  0.268847  0.116437  0.122898  0.223956   \n",
       "\n",
       "          7         8         9     ...  4550  4551  4552  4553  4554  4555  \\\n",
       "0     1.000000  0.247962  1.000000  ...   0.0   0.0   0.0   0.0   0.0   0.0   \n",
       "1     0.257812  0.292213  0.323082  ...   0.0   0.0   0.0   0.0   0.0   0.0   \n",
       "2     0.653854  0.510419  0.687999  ...   0.0   0.0   0.0   0.0   0.0   0.0   \n",
       "3     1.000000  0.753297  1.000000  ...   0.0   0.0   0.0   0.0   0.0   0.0   \n",
       "4     0.507481  0.395239  0.211162  ...   0.0   0.0   0.0   0.0   0.0   0.0   \n",
       "...        ...       ...       ...  ...   ...   ...   ...   ...   ...   ...   \n",
       "6465  0.144225  0.591285  0.231273  ...   0.0   0.0   0.0   0.0   0.0   0.0   \n",
       "6466  0.407115  1.000000  0.518549  ...   0.0   0.0   0.0   0.0   0.0   0.0   \n",
       "6467  0.407115  1.000000  0.518549  ...   0.0   0.0   0.0   0.0   0.0   0.0   \n",
       "6468  0.325488  0.215085  0.614748  ...   0.0   0.0   0.0   0.0   0.0   0.0   \n",
       "6469  0.856996  0.574751  0.246467  ...   0.0   0.0   0.0   0.0   0.0   0.0   \n",
       "\n",
       "      4556  4557  4558  4559  \n",
       "0      0.0   0.0   0.0   0.0  \n",
       "1      0.0   0.0   0.0   0.0  \n",
       "2      0.0   0.0   0.0   0.0  \n",
       "3      0.0   0.0   0.0   0.0  \n",
       "4      0.0   0.0   0.0   0.0  \n",
       "...    ...   ...   ...   ...  \n",
       "6465   0.0   0.0   0.0   0.0  \n",
       "6466   0.0   0.0   0.0   0.0  \n",
       "6467   0.0   0.0   0.0   0.0  \n",
       "6468   0.0   0.0   0.0   0.0  \n",
       "6469   0.0   0.0   0.0   0.0  \n",
       "\n",
       "[6470 rows x 4560 columns]"
      ]
     },
     "execution_count": 45,
     "metadata": {},
     "output_type": "execute_result"
    }
   ],
   "source": [
    "df3 = pd.DataFrame(features_chroma)\n",
    "df3"
   ]
  },
  {
   "cell_type": "code",
   "execution_count": 65,
   "id": "cb18e282",
   "metadata": {},
   "outputs": [],
   "source": [
    "from sklearn.preprocessing import LabelEncoder\n",
    "from sklearn.model_selection import train_test_split"
   ]
  },
  {
   "cell_type": "code",
   "execution_count": 89,
   "id": "0ba65cdd",
   "metadata": {},
   "outputs": [
    {
     "name": "stderr",
     "output_type": "stream",
     "text": [
      "D:\\anaconda\\lib\\site-packages\\sklearn\\utils\\validation.py:63: DataConversionWarning: A column-vector y was passed when a 1d array was expected. Please change the shape of y to (n_samples, ), for example using ravel().\n",
      "  return f(*args, **kwargs)\n"
     ]
    }
   ],
   "source": [
    "y=pd.DataFrame(labels)\n",
    "LEncoder = LabelEncoder()\n",
    "tmp = LEncoder.fit_transform(y)\n",
    "y = pd.DataFrame(tmp)"
   ]
  },
  {
   "cell_type": "code",
   "execution_count": 96,
   "id": "292261a5",
   "metadata": {},
   "outputs": [],
   "source": [
    "x = pd.concat([df,df3],axis =1, ignore_index = True )"
   ]
  },
  {
   "cell_type": "code",
   "execution_count": 97,
   "id": "f7d19af5",
   "metadata": {},
   "outputs": [
    {
     "data": {
      "text/plain": [
       "0        0\n",
       "1        0\n",
       "2        0\n",
       "3        0\n",
       "4        0\n",
       "        ..\n",
       "12155    0\n",
       "12156    0\n",
       "12157    0\n",
       "12158    0\n",
       "12159    0\n",
       "Length: 12160, dtype: int64"
      ]
     },
     "execution_count": 97,
     "metadata": {},
     "output_type": "execute_result"
    }
   ],
   "source": [
    "x.isnull().sum()"
   ]
  },
  {
   "cell_type": "code",
   "execution_count": 98,
   "id": "4d640f86",
   "metadata": {},
   "outputs": [
    {
     "name": "stdout",
     "output_type": "stream",
     "text": [
      "<class 'pandas.core.frame.DataFrame'>\n",
      "RangeIndex: 6470 entries, 0 to 6469\n",
      "Data columns (total 1 columns):\n",
      " #   Column  Non-Null Count  Dtype\n",
      "---  ------  --------------  -----\n",
      " 0   0       6470 non-null   int32\n",
      "dtypes: int32(1)\n",
      "memory usage: 25.4 KB\n"
     ]
    }
   ],
   "source": [
    "y.info()"
   ]
  },
  {
   "cell_type": "markdown",
   "id": "40a73c9d",
   "metadata": {},
   "source": [
    "## Before moving to the models, saving the dataframes for appropriate use"
   ]
  },
  {
   "cell_type": "code",
   "execution_count": 99,
   "id": "e1e3afc7",
   "metadata": {},
   "outputs": [],
   "source": [
    "x.to_csv('i201753_Project_DataFrame_X.csv',index=False)\n",
    "y.to_csv('i201753_Project_DataFrame_Y.csv',index=False)"
   ]
  },
  {
   "cell_type": "markdown",
   "id": "5248ce2f",
   "metadata": {},
   "source": [
    "# The following code will contain all imported libs.  as well as reading of the saved dataframes \n"
   ]
  },
  {
   "cell_type": "code",
   "execution_count": 16,
   "id": "1d57b44d",
   "metadata": {},
   "outputs": [],
   "source": [
    "#imports which have been run above.\n",
    "import zipfile\n",
    "import os\n",
    "import librosa \n",
    "import soundfile as sf \n",
    "import numpy as np\n",
    "import pandas as pd\n",
    "from sklearn.preprocessing import LabelEncoder\n",
    "from sklearn.model_selection import train_test_split"
   ]
  },
  {
   "cell_type": "code",
   "execution_count": 6,
   "id": "b45e6d2e",
   "metadata": {},
   "outputs": [
    {
     "name": "stdout",
     "output_type": "stream",
     "text": [
      "E:\\University\\semester 3\\Prog. AI\\Project\n"
     ]
    }
   ],
   "source": [
    "cd E:\\University\\semester 3\\Prog. AI\\Project"
   ]
  },
  {
   "cell_type": "code",
   "execution_count": 17,
   "id": "6ef645e9",
   "metadata": {},
   "outputs": [],
   "source": [
    " x = pd.read_csv('i201753_Project_DataFrame_X.csv')"
   ]
  },
  {
   "cell_type": "code",
   "execution_count": 18,
   "id": "9f8eb5c7",
   "metadata": {},
   "outputs": [],
   "source": [
    " y = pd.read_csv('i201753_Project_DataFrame_Y.csv')"
   ]
  },
  {
   "cell_type": "markdown",
   "id": "8e814388",
   "metadata": {},
   "source": [
    "# using imbalanced learn"
   ]
  },
  {
   "cell_type": "code",
   "execution_count": 19,
   "id": "40410f08",
   "metadata": {},
   "outputs": [
    {
     "name": "stdout",
     "output_type": "stream",
     "text": [
      "Collecting imbalanced-learn\n",
      "  Downloading imbalanced_learn-0.8.1-py3-none-any.whl (189 kB)\n",
      "Requirement already satisfied: scipy>=0.19.1 in d:\\anaconda\\lib\\site-packages (from imbalanced-learn) (1.6.2)\n",
      "Requirement already satisfied: joblib>=0.11 in d:\\anaconda\\lib\\site-packages (from imbalanced-learn) (1.0.1)\n",
      "Requirement already satisfied: scikit-learn>=0.24 in d:\\anaconda\\lib\\site-packages (from imbalanced-learn) (0.24.1)\n",
      "Requirement already satisfied: numpy>=1.13.3 in d:\\anaconda\\lib\\site-packages (from imbalanced-learn) (1.20.1)\n",
      "Requirement already satisfied: threadpoolctl>=2.0.0 in d:\\anaconda\\lib\\site-packages (from scikit-learn>=0.24->imbalanced-learn) (2.1.0)\n",
      "Installing collected packages: imbalanced-learn\n",
      "Successfully installed imbalanced-learn-0.8.1\n"
     ]
    }
   ],
   "source": [
    "!pip install imbalanced-learn"
   ]
  },
  {
   "cell_type": "code",
   "execution_count": 20,
   "id": "3813f1c4",
   "metadata": {},
   "outputs": [],
   "source": [
    "import imblearn\n",
    "from imblearn.over_sampling import SMOTE"
   ]
  },
  {
   "cell_type": "code",
   "execution_count": 24,
   "id": "ad020f67",
   "metadata": {},
   "outputs": [],
   "source": [
    "smote = SMOTE()\n",
    "date_smote,label_smote = smote.fit_resample(x,y)"
   ]
  },
  {
   "cell_type": "markdown",
   "id": "ce32e208",
   "metadata": {},
   "source": [
    "# Now using classifiers "
   ]
  },
  {
   "cell_type": "code",
   "execution_count": 25,
   "id": "762f1c34",
   "metadata": {},
   "outputs": [],
   "source": [
    "#Before using classifiers, we will prepare the test and train data\n",
    "data_train,data_test,label_train,label_test = train_test_split(date_smote , label_smote, test_size = 0.2 , random_state = 60)\n",
    "#test_size=0.2 means that we are keeping 20% of the data for testing purposes\n",
    "#random_state Controls the shuffling applied to the data before applying the split. \n",
    "#Documentation: https://scikit-learn.org/stable/modules/generated/sklearn.model_selection.train_test_split.html\n"
   ]
  },
  {
   "cell_type": "code",
   "execution_count": 26,
   "id": "a4ff989f",
   "metadata": {},
   "outputs": [],
   "source": [
    "#Code from class lectures\n",
    "from sklearn import tree\n",
    "from sklearn.metrics import confusion_matrix\n",
    "from sklearn.metrics import accuracy_score\n",
    "from sklearn.metrics import f1_score\n",
    "from sklearn.metrics import classification_report \n",
    "from sklearn.neighbors import KNeighborsClassifier\n",
    "import pickle\n",
    "import xgboost as xgb\n",
    "from sklearn.ensemble import RandomForestClassifier \n",
    "from sklearn.ensemble import AdaBoostClassifier"
   ]
  },
  {
   "cell_type": "markdown",
   "id": "f680b08e",
   "metadata": {},
   "source": [
    "# To avoid repeated training DO NOT RUN THE Classifiers code, directly load them!"
   ]
  },
  {
   "cell_type": "markdown",
   "id": "1c8927d6",
   "metadata": {},
   "source": [
    "## 1.Decision Tree"
   ]
  },
  {
   "cell_type": "code",
   "execution_count": 27,
   "id": "501d8329",
   "metadata": {},
   "outputs": [
    {
     "name": "stdout",
     "output_type": "stream",
     "text": [
      "[3 0 0 ... 2 3 3]\n"
     ]
    },
    {
     "data": {
      "text/plain": [
       "0.6726830961471711"
      ]
     },
     "execution_count": 27,
     "metadata": {},
     "output_type": "execute_result"
    }
   ],
   "source": [
    "clf = tree.DecisionTreeClassifier()\n",
    "clf = clf.fit(data_train, label_train)\n",
    "pred=clf.predict(data_test)\n",
    "print (pred)\n",
    "clf.score(data_test,label_test)"
   ]
  },
  {
   "cell_type": "code",
   "execution_count": 28,
   "id": "27eda9dc",
   "metadata": {},
   "outputs": [
    {
     "name": "stdout",
     "output_type": "stream",
     "text": [
      "Accuracy :  67.26830961471711\n",
      "Report : \n",
      "               precision    recall  f1-score   support\n",
      "\n",
      "           0       0.74      0.84      0.79       722\n",
      "           1       0.59      0.48      0.53       751\n",
      "           2       0.75      0.81      0.78       690\n",
      "           3       0.59      0.58      0.58       718\n",
      "\n",
      "    accuracy                           0.67      2881\n",
      "   macro avg       0.67      0.68      0.67      2881\n",
      "weighted avg       0.66      0.67      0.67      2881\n",
      "\n",
      "F1 Score :  66.87017894422496\n"
     ]
    }
   ],
   "source": [
    "print (\"Accuracy : \" , accuracy_score(label_test,pred)*100)  \n",
    "print(\"Report : \\n\", classification_report(label_test, pred))\n",
    "print(\"F1 Score : \",f1_score(label_test, pred, average='macro')*100)"
   ]
  },
  {
   "cell_type": "code",
   "execution_count": 29,
   "id": "46813ae9",
   "metadata": {},
   "outputs": [],
   "source": [
    "filename = 'DecisionTree.pkl'\n",
    "pickle.dump(clf, open(filename, 'wb'))"
   ]
  },
  {
   "cell_type": "markdown",
   "id": "0792fbf2",
   "metadata": {},
   "source": [
    "## 2.Knn"
   ]
  },
  {
   "cell_type": "code",
   "execution_count": 30,
   "id": "12d9f5c2",
   "metadata": {},
   "outputs": [
    {
     "name": "stderr",
     "output_type": "stream",
     "text": [
      "D:\\anaconda\\lib\\site-packages\\sklearn\\neighbors\\_classification.py:179: DataConversionWarning: A column-vector y was passed when a 1d array was expected. Please change the shape of y to (n_samples,), for example using ravel().\n",
      "  return self._fit(X, y)\n"
     ]
    },
    {
     "data": {
      "text/plain": [
       "0.7625824366539397"
      ]
     },
     "execution_count": 30,
     "metadata": {},
     "output_type": "execute_result"
    }
   ],
   "source": [
    "clf1=KNeighborsClassifier()\n",
    "clf1.fit(data_train, label_train)\n",
    "pred=clf1.predict(data_test)\n",
    "clf1.score(data_test,label_test)"
   ]
  },
  {
   "cell_type": "code",
   "execution_count": 31,
   "id": "50bb3174",
   "metadata": {},
   "outputs": [
    {
     "name": "stdout",
     "output_type": "stream",
     "text": [
      "Accuracy :  76.25824366539396\n",
      "Report : \n",
      "               precision    recall  f1-score   support\n",
      "\n",
      "           0       0.78      0.99      0.87       722\n",
      "           1       0.88      0.36      0.52       751\n",
      "           2       0.74      0.99      0.85       690\n",
      "           3       0.71      0.73      0.72       718\n",
      "\n",
      "    accuracy                           0.76      2881\n",
      "   macro avg       0.78      0.77      0.74      2881\n",
      "weighted avg       0.78      0.76      0.74      2881\n",
      "\n",
      "F1 Score :  73.99818296898559\n"
     ]
    }
   ],
   "source": [
    "print (\"Accuracy : \" , accuracy_score(label_test,pred)*100)  \n",
    "print(\"Report : \\n\", classification_report(label_test, pred))\n",
    "print(\"F1 Score : \",f1_score(label_test, pred, average='macro')*100)"
   ]
  },
  {
   "cell_type": "code",
   "execution_count": 33,
   "id": "a718b5cb",
   "metadata": {},
   "outputs": [],
   "source": [
    "filename = 'Knn.pkl'\n",
    "pickle.dump(clf1, open(filename, 'wb'))"
   ]
  },
  {
   "cell_type": "markdown",
   "id": "1c26744f",
   "metadata": {},
   "source": [
    "## 3.xgboost"
   ]
  },
  {
   "cell_type": "code",
   "execution_count": 34,
   "id": "f32d08dc",
   "metadata": {},
   "outputs": [
    {
     "name": "stderr",
     "output_type": "stream",
     "text": [
      "D:\\anaconda\\lib\\site-packages\\xgboost\\sklearn.py:1224: UserWarning: The use of label encoder in XGBClassifier is deprecated and will be removed in a future release. To remove this warning, do the following: 1) Pass option use_label_encoder=False when constructing XGBClassifier object; and 2) Encode your labels (y) as integers starting with 0, i.e. 0, 1, 2, ..., [num_class - 1].\n",
      "  warnings.warn(label_encoder_deprecation_msg, UserWarning)\n",
      "D:\\anaconda\\lib\\site-packages\\sklearn\\utils\\validation.py:63: DataConversionWarning: A column-vector y was passed when a 1d array was expected. Please change the shape of y to (n_samples, ), for example using ravel().\n",
      "  return f(*args, **kwargs)\n"
     ]
    },
    {
     "name": "stdout",
     "output_type": "stream",
     "text": [
      "[22:45:29] WARNING: C:/Users/Administrator/workspace/xgboost-win64_release_1.5.1/src/learner.cc:1115: Starting in XGBoost 1.3.0, the default evaluation metric used with the objective 'multi:softprob' was changed from 'merror' to 'mlogloss'. Explicitly set eval_metric if you'd like to restore the old behavior.\n"
     ]
    },
    {
     "data": {
      "text/plain": [
       "0.9052412356820548"
      ]
     },
     "execution_count": 34,
     "metadata": {},
     "output_type": "execute_result"
    }
   ],
   "source": [
    "clf2 = xgb.XGBClassifier()\n",
    "clf2.fit(data_train,label_train)\n",
    "pred = clf2.predict(data_test)\n",
    "clf2.score(data_test,label_test)"
   ]
  },
  {
   "cell_type": "code",
   "execution_count": 35,
   "id": "40929f2b",
   "metadata": {},
   "outputs": [
    {
     "name": "stdout",
     "output_type": "stream",
     "text": [
      "Accuracy :  90.52412356820548\n",
      "Report : \n",
      "               precision    recall  f1-score   support\n",
      "\n",
      "           0       0.97      0.98      0.98       722\n",
      "           1       0.81      0.89      0.85       751\n",
      "           2       0.97      0.98      0.97       690\n",
      "           3       0.88      0.78      0.82       718\n",
      "\n",
      "    accuracy                           0.91      2881\n",
      "   macro avg       0.91      0.91      0.91      2881\n",
      "weighted avg       0.91      0.91      0.90      2881\n",
      "\n",
      "F1 Score :  90.59760337270717\n"
     ]
    }
   ],
   "source": [
    "print (\"Accuracy : \" , accuracy_score(label_test,pred)*100)  \n",
    "print(\"Report : \\n\", classification_report(label_test, pred))\n",
    "print(\"F1 Score : \",f1_score(label_test, pred, average='macro')*100)"
   ]
  },
  {
   "cell_type": "code",
   "execution_count": 36,
   "id": "bf2781af",
   "metadata": {},
   "outputs": [],
   "source": [
    "filename = 'xgboost.pkl'\n",
    "pickle.dump(clf2, open(filename, 'wb'))"
   ]
  },
  {
   "cell_type": "markdown",
   "id": "fdd5b344",
   "metadata": {},
   "source": [
    "## 4. RandomForestClassifier"
   ]
  },
  {
   "cell_type": "code",
   "execution_count": 37,
   "id": "ea40fd3a",
   "metadata": {},
   "outputs": [
    {
     "name": "stderr",
     "output_type": "stream",
     "text": [
      "<ipython-input-37-f0c6b29211b2>:2: DataConversionWarning: A column-vector y was passed when a 1d array was expected. Please change the shape of y to (n_samples,), for example using ravel().\n",
      "  clf3.fit(data_train,label_train)\n"
     ]
    },
    {
     "data": {
      "text/plain": [
       "0.8955223880597015"
      ]
     },
     "execution_count": 37,
     "metadata": {},
     "output_type": "execute_result"
    }
   ],
   "source": [
    "clf3 = RandomForestClassifier()\n",
    "clf3.fit(data_train,label_train)\n",
    "pred =clf3.predict(data_test)\n",
    "clf3.score(data_test,label_test)"
   ]
  },
  {
   "cell_type": "code",
   "execution_count": 38,
   "id": "f542e830",
   "metadata": {},
   "outputs": [
    {
     "name": "stdout",
     "output_type": "stream",
     "text": [
      "Accuracy :  89.55223880597015\n",
      "Report : \n",
      "               precision    recall  f1-score   support\n",
      "\n",
      "           0       0.93      0.99      0.96       722\n",
      "           1       0.83      0.84      0.83       751\n",
      "           2       0.97      0.99      0.98       690\n",
      "           3       0.85      0.77      0.81       718\n",
      "\n",
      "    accuracy                           0.90      2881\n",
      "   macro avg       0.90      0.90      0.90      2881\n",
      "weighted avg       0.89      0.90      0.89      2881\n",
      "\n",
      "F1 Score :  89.54649143466642\n"
     ]
    }
   ],
   "source": [
    "print (\"Accuracy : \" , accuracy_score(label_test,pred)*100)  \n",
    "print(\"Report : \\n\", classification_report(label_test, pred))\n",
    "print(\"F1 Score : \",f1_score(label_test, pred, average='macro')*100)"
   ]
  },
  {
   "cell_type": "code",
   "execution_count": 39,
   "id": "db14bb39",
   "metadata": {},
   "outputs": [],
   "source": [
    "filename = 'RandomForestClassifier.pkl'\n",
    "pickle.dump(clf3, open(filename, 'wb'))"
   ]
  },
  {
   "cell_type": "markdown",
   "id": "5f133195",
   "metadata": {},
   "source": [
    "## 5. AdaBoost Classifier"
   ]
  },
  {
   "cell_type": "code",
   "execution_count": 40,
   "id": "9b26f503",
   "metadata": {},
   "outputs": [
    {
     "name": "stderr",
     "output_type": "stream",
     "text": [
      "D:\\anaconda\\lib\\site-packages\\sklearn\\utils\\validation.py:63: DataConversionWarning: A column-vector y was passed when a 1d array was expected. Please change the shape of y to (n_samples, ), for example using ravel().\n",
      "  return f(*args, **kwargs)\n"
     ]
    },
    {
     "data": {
      "text/plain": [
       "0.49184311003123915"
      ]
     },
     "execution_count": 40,
     "metadata": {},
     "output_type": "execute_result"
    }
   ],
   "source": [
    "clf4 = AdaBoostClassifier()\n",
    "clf4.fit(data_train,label_train)\n",
    "pred =clf4.predict(data_test)\n",
    "clf4.score(data_test,label_test)"
   ]
  },
  {
   "cell_type": "code",
   "execution_count": 41,
   "id": "be34501d",
   "metadata": {},
   "outputs": [
    {
     "name": "stdout",
     "output_type": "stream",
     "text": [
      "Accuracy :  49.184311003123916\n",
      "Report : \n",
      "               precision    recall  f1-score   support\n",
      "\n",
      "           0       0.50      0.53      0.51       722\n",
      "           1       0.60      0.60      0.60       751\n",
      "           2       0.44      0.48      0.46       690\n",
      "           3       0.41      0.35      0.38       718\n",
      "\n",
      "    accuracy                           0.49      2881\n",
      "   macro avg       0.49      0.49      0.49      2881\n",
      "weighted avg       0.49      0.49      0.49      2881\n",
      "\n",
      "F1 Score :  48.807221619545004\n"
     ]
    }
   ],
   "source": [
    "print (\"Accuracy : \" , accuracy_score(label_test,pred)*100)  \n",
    "print(\"Report : \\n\", classification_report(label_test, pred))\n",
    "print(\"F1 Score : \",f1_score(label_test, pred, average='macro')*100)"
   ]
  },
  {
   "cell_type": "code",
   "execution_count": 42,
   "id": "dfa05aa1",
   "metadata": {},
   "outputs": [],
   "source": [
    "filename = 'AdaBoostClassifier.pkl'\n",
    "pickle.dump(clf4, open(filename, 'wb'))"
   ]
  },
  {
   "cell_type": "markdown",
   "id": "5c157e7a",
   "metadata": {},
   "source": [
    "# Loading the models to avoid repeated training"
   ]
  },
  {
   "cell_type": "code",
   "execution_count": 6,
   "id": "ff988460",
   "metadata": {},
   "outputs": [
    {
     "name": "stdout",
     "output_type": "stream",
     "text": [
      "E:\\University\\semester 3\\Prog. AI\\Project\n"
     ]
    }
   ],
   "source": [
    "cd E:\\University\\semester 3\\Prog. AI\\Project"
   ]
  },
  {
   "cell_type": "code",
   "execution_count": 3,
   "id": "258c77a2",
   "metadata": {},
   "outputs": [],
   "source": [
    "clf = pickle.load(open('DecisionTree.pkl', 'rb'))\n",
    "clf1 = pickle.load(open('Knn.pkl', 'rb'))\n",
    "clf2 = pickle.load(open('xgboost.pkl', 'rb'))\n",
    "clf3 = pickle.load(open('RandomForestClassifier.pkl', 'rb'))\n",
    "clf4 = pickle.load(open('AdaBoostClassifier.pkl', 'rb'))"
   ]
  },
  {
   "cell_type": "markdown",
   "id": "bafcfd73",
   "metadata": {},
   "source": [
    "## Function for classifing an unknow sound \n"
   ]
  },
  {
   "cell_type": "code",
   "execution_count": 2,
   "id": "874e06eb",
   "metadata": {},
   "outputs": [],
   "source": [
    "import zipfile\n",
    "import os\n",
    "import librosa \n",
    "import soundfile as sf \n",
    "import numpy as np\n",
    "import pandas as pd\n",
    "from sklearn.preprocessing import LabelEncoder\n",
    "from sklearn.model_selection import train_test_split\n",
    "from sklearn import tree\n",
    "from sklearn.metrics import confusion_matrix\n",
    "from sklearn.metrics import accuracy_score\n",
    "from sklearn.metrics import f1_score\n",
    "from sklearn.metrics import classification_report \n",
    "from sklearn.neighbors import KNeighborsClassifier\n",
    "import pickle\n",
    "import xgboost as xgb\n",
    "from sklearn.ensemble import RandomForestClassifier \n",
    "from sklearn.ensemble import AdaBoostClassifier"
   ]
  },
  {
   "cell_type": "code",
   "execution_count": 43,
   "id": "9b6ab216",
   "metadata": {},
   "outputs": [],
   "source": [
    "#Credits: Code from Geeks for Geeks\n",
    "#Link: https://www.geeksforgeeks.org/python-find-most-frequent-element-in-a-list/\n",
    "\n",
    "def most_frequent(List):\n",
    "    counter = 0\n",
    "    num = List[0]\n",
    "     \n",
    "    for i in List:\n",
    "        curr_frequency = List.count(i)\n",
    "        if(curr_frequency> counter):\n",
    "            counter = curr_frequency\n",
    "            num = i\n",
    " \n",
    "    return num"
   ]
  },
  {
   "cell_type": "code",
   "execution_count": 44,
   "id": "422e80dc",
   "metadata": {},
   "outputs": [],
   "source": [
    "def ClassifySound(input):\n",
    "    #first finding the features of input.\n",
    "    features_mfcc=[]\n",
    "    features_chroma=[]       \n",
    "    x , sr = librosa.load(input)\n",
    "    mfcc_features = librosa.feature.mfcc(y=x,sr=sr)\n",
    "    MFCC = mfcc_features.flatten().tolist()\n",
    "    \n",
    "    chroma_features = librosa.feature.chroma_stft(y=x,sr=sr, hop_length=512)\n",
    "    CHROMA = chroma_features.flatten().tolist()\n",
    "\n",
    "    features_mfcc.append(MFCC)\n",
    "    features_chroma.append(CHROMA)\n",
    "    \n",
    "    size=[]\n",
    "    for i in features_mfcc:\n",
    "        size.append(len(i))\n",
    "    max_size = max(size)\n",
    "    for i in features_mfcc:\n",
    "        while(len(i)<max_size):\n",
    "            i.append(0)\n",
    "    \n",
    "    \n",
    "    size=[]\n",
    "    for i in features_chroma:\n",
    "        size.append(len(i))\n",
    "    max_size = max(size)\n",
    "    for i in features_chroma:\n",
    "        while(len(i)<max_size):\n",
    "            i.append(0)\n",
    "    \n",
    "    df1 = pd.DataFrame(features_mfcc)\n",
    "    df2 = pd.DataFrame(features_chroma)\n",
    "    input_test = pd.concat([df1,df2],axis =1, ignore_index = True )\n",
    "    \n",
    "    #Now using trained models.\n",
    "    results=[]\n",
    "    pred=clf.predict(input_test)\n",
    "    results.append(pred)\n",
    "    pred=clf1.predict(input_test)\n",
    "    results.append(pred)\n",
    "    pred=clf2.predict(input_test)\n",
    "    results.append(pred)\n",
    "    pred=clf3.predict(input_test)\n",
    "    results.append(pred)\n",
    "    pred=clf4.predict(input_test)\n",
    "    results.append(pred)\n",
    "    \n",
    "    for i in range (0,len(results)):\n",
    "        if(results[i]==0):\n",
    "            results[i]=\"A.C\"\n",
    "        if(results[i]==1):\n",
    "            results[i]=\"Bulb\"\n",
    "        if(results[i]==2):\n",
    "            results[i]=\"Gaana\"\n",
    "        if(results[i]==3):\n",
    "            results[i]=\"T.V\"\n",
    "       \n",
    "    predicted = most_frequent(results)\n",
    "    \n",
    "    return print(predicted+\"\\nModels:\\nDecisionTree: \"+results[0]+\"\\nKNN: \"+results[1]+\"\\nxgboost: \"+results[2]+\"\\nRandomForestClassifier: \"+results[3]+\"\\nAdaBoostClassifier\"+results[4])\n",
    "    \n",
    "    "
   ]
  },
  {
   "cell_type": "code",
   "execution_count": 45,
   "id": "701d896d",
   "metadata": {},
   "outputs": [],
   "source": [
    "def dummyfunction():\n",
    "    return print(\"Predicted \"+\"\\nModels:\\nDecisionTree: \"+\"Value\"+\"\\nKNN: \"+\"Value\"+\"\\nxgboost: \"+\"Value\"+\"\\nRandomForestClassifier: \"+\"Value\"+\"\\nAdaBoostClassifier\"+\"Value\")\n"
   ]
  },
  {
   "cell_type": "code",
   "execution_count": null,
   "id": "0cdb8b87",
   "metadata": {},
   "outputs": [],
   "source": []
  },
  {
   "cell_type": "code",
   "execution_count": null,
   "id": "fe328a47",
   "metadata": {},
   "outputs": [],
   "source": []
  },
  {
   "cell_type": "code",
   "execution_count": null,
   "id": "e4c7986e",
   "metadata": {},
   "outputs": [],
   "source": [
    "\n"
   ]
  },
  {
   "cell_type": "code",
   "execution_count": null,
   "id": "05e4b7e2",
   "metadata": {},
   "outputs": [],
   "source": []
  }
 ],
 "metadata": {
  "kernelspec": {
   "display_name": "Python 3",
   "language": "python",
   "name": "python3"
  },
  "language_info": {
   "codemirror_mode": {
    "name": "ipython",
    "version": 3
   },
   "file_extension": ".py",
   "mimetype": "text/x-python",
   "name": "python",
   "nbconvert_exporter": "python",
   "pygments_lexer": "ipython3",
   "version": "3.8.8"
  }
 },
 "nbformat": 4,
 "nbformat_minor": 5
}
